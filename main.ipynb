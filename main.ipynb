{
 "cells": [
  {
   "cell_type": "markdown",
   "id": "3f895eb9",
   "metadata": {},
   "source": [
    "# Hackathon Project\n",
    "\n",
    "Welcome! 🚀  \n",
    "Let's build something amazing together—with a great design during this hackaton! 🎨"
   ]
  },
  {
   "cell_type": "code",
   "execution_count": null,
   "id": "b986986b",
   "metadata": {
    "vscode": {
     "languageId": "plaintext"
    }
   },
   "outputs": [],
   "source": [
    "def importer_images_depuis_dossier(chemin_dossier):\n",
    "    \"\"\"\n",
    "    Importe toutes les images d'un dossier donné.\n",
    "\n",
    "    Args:\n",
    "        chemin_dossier (str): Le chemin d'accès au dossier contenant les images.\n",
    "\n",
    "    Returns:\n",
    "        tuple: Un tuple contenant :\n",
    "               - list: Une liste d'images chargées (objets NumPy array).\n",
    "               - list: Une liste des noms de fichiers des images chargées.\n",
    "    \"\"\"\n",
    "    images = []\n",
    "    noms_fichiers_images = []\n",
    "    extensions_images_valides = ('.png', '.jpg', '.jpeg', '.gif', '.bmp', '.tiff')\n",
    "\n",
    "    if not os.path.isdir(chemin_dossier):\n",
    "        print(f\"Erreur : Le dossier '{chemin_dossier}' n'existe pas.\")\n",
    "        return images, noms_fichiers_images\n",
    "\n",
    "    for nom_fichier in os.listdir(chemin_dossier):\n",
    "        chemin_complet_fichier = os.path.join(chemin_dossier, nom_fichier)\n",
    "\n",
    "        if os.path.isfile(chemin_complet_fichier) and nom_fichier.lower().endswith(extensions_images_valides):\n",
    "            try:\n",
    "                # Charger l'image. OpenCV charge en BGR par défaut.\n",
    "                image = cv2.imread(chemin_complet_fichier)\n",
    "\n",
    "                if image is not None:\n",
    "                    images.append(image)\n",
    "                    noms_fichiers_images.append(nom_fichier)\n",
    "                    # print(f\"Image chargée : {nom_fichier}\") # Commenté pour éviter trop de sorties\n",
    "                else:\n",
    "                    print(f\"Avertissement : Impossible de charger l'image {nom_fichier}. Le fichier est peut-être corrompu ou non pris en charge.\")\n",
    "            except Exception as e:\n",
    "                print(f\"Erreur lors du chargement de l'image {nom_fichier} : {e}\")\n",
    "\n",
    "    print(f\"\\nTotal des images chargées : {len(images)}\")\n",
    "    return images, noms_fichiers_images\n",
    "\n",
    "# La fonction extraire_caracteristiques_descriptives n'est pas utilisée dans cette version\n",
    "# car l'objectif est juste d'afficher une image en noir et blanc, pas de faire une étude descriptive.\n",
    "# def extraire_caracteristiques_descriptives(image, nom_fichier):\n",
    "#     # ... (code de la fonction précédente) ...\n",
    "#     pass\n"
   ]
  }
 ],
 "metadata": {
  "language_info": {
   "name": "python"
  }
 },
 "nbformat": 4,
 "nbformat_minor": 5
}
