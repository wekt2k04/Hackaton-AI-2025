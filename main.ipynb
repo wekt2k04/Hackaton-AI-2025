{
 "cells": [
  {
   "cell_type": "markdown",
   "id": "3f895eb9",
   "metadata": {},
   "source": [
    "# Hackathon Project\n",
    "\n",
    "Welcome! 🚀  \n",
    "Let's build something amazing together—with a great design during this hackaton! 🎨"
   ]
  }
 ],
 "metadata": {
  "language_info": {
   "name": "python"
  }
 },
 "nbformat": 4,
 "nbformat_minor": 5
}
